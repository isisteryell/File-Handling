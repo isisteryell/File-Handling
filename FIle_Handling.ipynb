{
  "cells": [
    {
      "cell_type": "markdown",
      "id": "7fddf771-0750-4fbb-80d7-38b9d8a10834",
      "metadata": {
        "id": "7fddf771-0750-4fbb-80d7-38b9d8a10834"
      },
      "source": [
        "# File Handling Assignment"
      ]
    },
    {
      "cell_type": "markdown",
      "id": "b8bd7c4c-2e27-4fe4-97bc-5b8a804c1a80",
      "metadata": {
        "id": "b8bd7c4c-2e27-4fe4-97bc-5b8a804c1a80"
      },
      "source": [
        "## Theoretical Questions\n",
        "\n",
        "1. **What is the difference between interpreted and compiled languages?**  \n",
        "   **Answer:** Interpreted languages are executed line-by-line at runtime (e.g., Python), while compiled languages are transformed into machine code before execution (e.g., C, C++). This often leads to faster execution for compiled code, though interpreted languages offer more flexibility.\n",
        "\n",
        "2. **What is exception handling in Python?**  \n",
        "   **Answer:** Exception handling is the process of responding to exceptions (errors) gracefully during program execution using `try`, `except`, `else`, and `finally` blocks.\n",
        "\n",
        "3. **What is the purpose of the finally block in exception handling?**  \n",
        "   **Answer:** The `finally` block contains code that is always executed, regardless of whether an exception occurred. It is commonly used to release external resources, such as closing files or network connections.\n",
        "\n",
        "4. **What is logging in Python?**  \n",
        "   **Answer:** Logging is a means of tracking events and errors during program execution. Python’s built-in `logging` module provides a flexible framework to record messages at different severity levels (DEBUG, INFO, WARNING, ERROR, CRITICAL).\n",
        "\n",
        "5. **What is the significance of the __del__ method in Python?**  \n",
        "   **Answer:** The `__del__` method is a destructor that is called when an object is about to be destroyed. It can be used for cleanup tasks, although relying on it for critical cleanup is not recommended due to the garbage collection mechanism.\n",
        "\n",
        "6. **What is the difference between `import` and `from ... import` in Python?**  \n",
        "   **Answer:** Using `import module` imports the module as a whole (referenced with `module.name`), while `from module import name` imports specific attributes or functions directly into the current namespace.\n",
        "\n",
        "7. **How can you handle multiple exceptions in Python?**  \n",
        "   **Answer:** Multiple exceptions can be caught by grouping them in a single `except` block using a tuple, or by having multiple `except` blocks following a single `try` block.\n",
        "\n",
        "8. **What is the purpose of the with statement when handling files in Python?**  \n",
        "   **Answer:** The `with` statement is used to wrap the execution of a block with methods defined by a context manager. It automatically manages resource acquisition and release (e.g., opening and closing files), even if an exception occurs.\n",
        "\n",
        "9. **What is the difference between multithreading and multiprocessing?**  \n",
        "   **Answer:** Multithreading allows concurrent execution within a single process (shared memory), while multiprocessing runs multiple processes with separate memory spaces. Multiprocessing is used for CPU-bound tasks, and multithreading is often used for I/O-bound tasks.\n",
        "\n",
        "10. **What are the advantages of using logging in a program?**  \n",
        "    **Answer:** Logging improves debugging, monitors system behavior, records errors, and aids in auditing and post-mortem analysis of application events.\n",
        "\n",
        "11. **What is memory management in Python?**  \n",
        "    **Answer:** Memory management involves the allocation and deallocation of memory to objects during program execution. Python uses automatic memory management, including a garbage collector to reclaim unused memory.\n",
        "\n",
        "12. **What are the basic steps involved in exception handling in Python?**  \n",
        "    **Answer:** The steps include placing risky code inside a `try` block, catching exceptions with one or more `except` blocks, optionally using an `else` block for code that runs if no exceptions occur, and finally executing cleanup code in the `finally` block.\n",
        "\n",
        "13. **Why is memory management important in Python?**  \n",
        "    **Answer:** Proper memory management helps ensure efficient resource usage, prevents memory leaks, and maintains application performance and stability.\n",
        "\n",
        "14. **What is the role of try and except in exception handling?**  \n",
        "    **Answer:** The `try` block contains code that might raise an exception, while the `except` block specifies how to handle specific exceptions if they occur.\n",
        "\n",
        "15. **How does Python's garbage collection system work?**  \n",
        "    **Answer:** Python’s garbage collector primarily uses reference counting to track object usage, and periodically runs a cycle collector to clean up cyclic references.\n",
        "\n",
        "16. **What is the purpose of the else block in exception handling?**  \n",
        "    **Answer:** The `else` block executes if no exceptions were raised in the try block, allowing separation of error-handling code from the code that executes under normal conditions.\n",
        "\n",
        "17. **What are the common logging levels in Python?**  \n",
        "    **Answer:** The common logging levels are DEBUG, INFO, WARNING, ERROR, and CRITICAL.\n",
        "\n",
        "18. **What is the difference between os.fork() and multiprocessing in Python?**  \n",
        "    **Answer:** `os.fork()` is a low-level Unix system call that creates a child process, while the `multiprocessing` module offers a high-level interface for spawning processes that is cross-platform and easier to work with.\n",
        "\n",
        "19. **What is the importance of closing a file in Python?**  \n",
        "    **Answer:** Closing a file releases system resources, ensures that data is properly flushed and saved, and prevents potential data corruption and resource leaks.\n",
        "\n",
        "20. **What is the difference between file.read() and file.readline() in Python?**  \n",
        "    **Answer:** `file.read()` reads the entire content of a file as a single string, while `file.readline()` reads one line at a time from the file.\n",
        "\n",
        "21. **What is the logging module in Python used for?**  \n",
        "    **Answer:** The logging module is used for tracking events, debugging, and logging error messages and other information during program execution.\n",
        "\n",
        "22. **What is the os module in Python used for in file handling?**  \n",
        "    **Answer:** The `os` module provides a way to interact with the operating system, including functions for file and directory manipulation, path handling, and process management.\n",
        "\n",
        "23. **What are the challenges associated with memory management in Python?**  \n",
        "    **Answer:** Challenges include dealing with circular references, ensuring timely deallocation of resources, and managing memory usage for large or complex applications.\n",
        "\n",
        "24. **How do you raise an exception manually in Python?**  \n",
        "    **Answer:** An exception can be raised manually using the `raise` statement followed by an instance of the exception class (e.g., `raise ValueError('Error message')`).\n",
        "\n",
        "25. **Why is it important to use multithreading in certain applications?**  \n",
        "    **Answer:** Multithreading improves performance for I/O-bound applications by allowing multiple operations to run concurrently, thereby increasing efficiency and responsiveness."
      ]
    },
    {
      "cell_type": "markdown",
      "id": "3e714139-8f9f-4a31-bb9e-9bdd8f4a1b68",
      "metadata": {
        "id": "3e714139-8f9f-4a31-bb9e-9bdd8f4a1b68"
      },
      "source": [
        "## Practical Questions"
      ]
    },
    {
      "cell_type": "code",
      "execution_count": 2,
      "id": "ae62c005-3719-4f0c-985e-5b987a1cf3d9",
      "metadata": {
        "colab": {
          "base_uri": "https://localhost:8080/"
        },
        "id": "ae62c005-3719-4f0c-985e-5b987a1cf3d9",
        "outputId": "e9896b87-3eda-4963-a26e-2513cd5d1d86"
      },
      "outputs": [
        {
          "output_type": "stream",
          "name": "stdout",
          "text": [
            "Written to output.txt\n"
          ]
        }
      ],
      "source": [
        "# 1. Open a file for writing and write a string to it\n",
        "filename = 'output.txt'\n",
        "with open(filename, 'w') as f:\n",
        "    f.write('Hello, this is a test string!')\n",
        "print(f\"Written to {filename}\")"
      ]
    },
    {
      "cell_type": "code",
      "execution_count": 3,
      "id": "201f8b0c-3c1b-47f9-a58d-b38e82df76d1",
      "metadata": {
        "colab": {
          "base_uri": "https://localhost:8080/"
        },
        "id": "201f8b0c-3c1b-47f9-a58d-b38e82df76d1",
        "outputId": "38946423-09e6-43af-deb5-a3150745087b"
      },
      "outputs": [
        {
          "output_type": "stream",
          "name": "stdout",
          "text": [
            "Hello, this is a test string!\n"
          ]
        }
      ],
      "source": [
        "# 2. Read the contents of a file and print each line\n",
        "with open(filename, 'r') as f:\n",
        "    for line in f:\n",
        "        print(line.rstrip())"
      ]
    },
    {
      "cell_type": "code",
      "execution_count": 4,
      "id": "2b8dc092-2dda-4bb3-96c1-c7d2662b0ba0",
      "metadata": {
        "colab": {
          "base_uri": "https://localhost:8080/"
        },
        "id": "2b8dc092-2dda-4bb3-96c1-c7d2662b0ba0",
        "outputId": "58c90b5a-8ff1-4f2b-b0e4-6a496dbb34d5"
      },
      "outputs": [
        {
          "output_type": "stream",
          "name": "stdout",
          "text": [
            "File not found. Please check the filename and path.\n"
          ]
        }
      ],
      "source": [
        "# 3. Handle the case where the file doesn't exist while trying to open for reading\n",
        "try:\n",
        "    with open('non_existent_file.txt', 'r') as f:\n",
        "        content = f.read()\n",
        "except FileNotFoundError:\n",
        "    print('File not found. Please check the filename and path.')"
      ]
    },
    {
      "cell_type": "code",
      "execution_count": 5,
      "id": "a9ddceca-bfee-4ad8-87c1-f3fdafe1e5c8",
      "metadata": {
        "colab": {
          "base_uri": "https://localhost:8080/"
        },
        "id": "a9ddceca-bfee-4ad8-87c1-f3fdafe1e5c8",
        "outputId": "b0ccd7fe-4f91-4717-972f-118217051c18"
      },
      "outputs": [
        {
          "output_type": "stream",
          "name": "stdout",
          "text": [
            "Content copied from output.txt to copied_output.txt\n"
          ]
        }
      ],
      "source": [
        "# 4. Read from one file and write its content to another file\n",
        "source_file = filename\n",
        "destination_file = 'copied_output.txt'\n",
        "\n",
        "with open(source_file, 'r') as src, open(destination_file, 'w') as dst:\n",
        "    for line in src:\n",
        "        dst.write(line)\n",
        "print(f\"Content copied from {source_file} to {destination_file}\")"
      ]
    },
    {
      "cell_type": "code",
      "execution_count": 6,
      "id": "cf933456-c3a8-4ff7-ab14-7f40e7053a0d",
      "metadata": {
        "colab": {
          "base_uri": "https://localhost:8080/"
        },
        "id": "cf933456-c3a8-4ff7-ab14-7f40e7053a0d",
        "outputId": "d2f95253-0afd-4089-cc8b-325213fb16a0"
      },
      "outputs": [
        {
          "output_type": "stream",
          "name": "stdout",
          "text": [
            "Division by zero error caught!\n"
          ]
        }
      ],
      "source": [
        "# 5. Catch and handle a division by zero error\n",
        "try:\n",
        "    result = 10 / 0\n",
        "except ZeroDivisionError:\n",
        "    print('Division by zero error caught!')"
      ]
    },
    {
      "cell_type": "code",
      "execution_count": 7,
      "id": "126d2f03-5c55-4491-b029-7e8e7dbe9b8b",
      "metadata": {
        "colab": {
          "base_uri": "https://localhost:8080/"
        },
        "id": "126d2f03-5c55-4491-b029-7e8e7dbe9b8b",
        "outputId": "7420f1fe-00e2-4d24-a527-981be17dbfcd"
      },
      "outputs": [
        {
          "output_type": "stream",
          "name": "stderr",
          "text": [
            "ERROR:root:Division by zero error occurred: division by zero\n"
          ]
        },
        {
          "output_type": "stream",
          "name": "stdout",
          "text": [
            "Error logged in error.log\n"
          ]
        }
      ],
      "source": [
        "# 6. Log an error message to a log file when a division by zero exception occurs\n",
        "import logging\n",
        "\n",
        "logging.basicConfig(filename='error.log', level=logging.ERROR,\n",
        "                    format='%(asctime)s:%(levelname)s:%(message)s')\n",
        "\n",
        "try:\n",
        "    result = 10 / 0\n",
        "except ZeroDivisionError as e:\n",
        "    logging.error('Division by zero error occurred: %s', e)\n",
        "    print('Error logged in error.log')"
      ]
    },
    {
      "cell_type": "code",
      "execution_count": 8,
      "id": "cf654a8d-420e-4e36-9fe2-21f92d4e0a24",
      "metadata": {
        "colab": {
          "base_uri": "https://localhost:8080/"
        },
        "id": "cf654a8d-420e-4e36-9fe2-21f92d4e0a24",
        "outputId": "60f57fd6-7a84-40d4-cdad-f100b94e29aa"
      },
      "outputs": [
        {
          "output_type": "stream",
          "name": "stderr",
          "text": [
            "WARNING:root:This is a warning message.\n",
            "ERROR:root:This is an error message.\n"
          ]
        },
        {
          "output_type": "stream",
          "name": "stdout",
          "text": [
            "Messages logged to app.log\n"
          ]
        }
      ],
      "source": [
        "# 7. Log information at different levels (INFO, ERROR, WARNING) using the logging module\n",
        "logging.basicConfig(filename='app.log', level=logging.DEBUG,\n",
        "                    format='%(asctime)s:%(levelname)s:%(message)s')\n",
        "\n",
        "logging.info('This is an informational message.')\n",
        "logging.warning('This is a warning message.')\n",
        "logging.error('This is an error message.')\n",
        "print('Messages logged to app.log')"
      ]
    },
    {
      "cell_type": "code",
      "execution_count": 9,
      "id": "59c10e02-7333-4bc8-a9c4-9d5a0b6ced7e",
      "metadata": {
        "colab": {
          "base_uri": "https://localhost:8080/"
        },
        "id": "59c10e02-7333-4bc8-a9c4-9d5a0b6ced7e",
        "outputId": "4d1e8b4a-81e8-4268-c16f-4a58292e7705"
      },
      "outputs": [
        {
          "output_type": "stream",
          "name": "stdout",
          "text": [
            "File opening error: [Errno 2] No such file or directory: 'non_existent.txt'\n"
          ]
        }
      ],
      "source": [
        "# 8. Handle a file opening error using exception handling\n",
        "try:\n",
        "    with open('non_existent.txt', 'r') as f:\n",
        "        data = f.read()\n",
        "except IOError as e:\n",
        "    print('File opening error:', e)"
      ]
    },
    {
      "cell_type": "code",
      "execution_count": 10,
      "id": "c52ec4fb-c75a-41d6-8e22-70b2c9553d69",
      "metadata": {
        "colab": {
          "base_uri": "https://localhost:8080/"
        },
        "id": "c52ec4fb-c75a-41d6-8e22-70b2c9553d69",
        "outputId": "6ff66646-b134-4ed5-b51f-ee9fb2cc2f41"
      },
      "outputs": [
        {
          "output_type": "stream",
          "name": "stdout",
          "text": [
            "List of lines: ['Hello, this is a test string!']\n"
          ]
        }
      ],
      "source": [
        "# 9. Read a file line by line and store its content in a list\n",
        "with open(filename, 'r') as f:\n",
        "    lines = f.readlines()\n",
        "print('List of lines:', [line.rstrip() for line in lines])"
      ]
    },
    {
      "cell_type": "code",
      "execution_count": 11,
      "id": "7ebf6aa4-7d3e-40e7-87df-64c3b760fb9b",
      "metadata": {
        "colab": {
          "base_uri": "https://localhost:8080/"
        },
        "id": "7ebf6aa4-7d3e-40e7-87df-64c3b760fb9b",
        "outputId": "b9c391f1-4538-43a0-e09b-63d2b0d73251"
      },
      "outputs": [
        {
          "output_type": "stream",
          "name": "stdout",
          "text": [
            "Data appended to output.txt\n"
          ]
        }
      ],
      "source": [
        "# 10. Append data to an existing file\n",
        "with open(filename, 'a') as f:\n",
        "    f.write('\\nAppended line')\n",
        "print(f\"Data appended to {filename}\")"
      ]
    },
    {
      "cell_type": "code",
      "execution_count": 12,
      "id": "5ac80a5b-5a51-42fe-bc6f-847cc2d7d9f8",
      "metadata": {
        "colab": {
          "base_uri": "https://localhost:8080/"
        },
        "id": "5ac80a5b-5a51-42fe-bc6f-847cc2d7d9f8",
        "outputId": "74a8760c-39e7-47ec-e9e3-30b0b13f2ba2"
      },
      "outputs": [
        {
          "output_type": "stream",
          "name": "stdout",
          "text": [
            "KeyError caught: 'c'\n"
          ]
        }
      ],
      "source": [
        "# 11. Use try-except to handle an error when attempting to access a dictionary key that doesn't exist\n",
        "sample_dict = {'a': 1, 'b': 2}\n",
        "try:\n",
        "    value = sample_dict['c']\n",
        "except KeyError as e:\n",
        "    print('KeyError caught:', e)"
      ]
    },
    {
      "cell_type": "code",
      "execution_count": 13,
      "id": "b130b72d-7ecc-4470-b45a-117da0fd0d9e",
      "metadata": {
        "colab": {
          "base_uri": "https://localhost:8080/"
        },
        "id": "b130b72d-7ecc-4470-b45a-117da0fd0d9e",
        "outputId": "17233e10-612f-4db7-ab27-6da6d934c5a1"
      },
      "outputs": [
        {
          "output_type": "stream",
          "name": "stdout",
          "text": [
            "Handled KeyError\n"
          ]
        }
      ],
      "source": [
        "# 12. Demonstrate using multiple except blocks for different types of exceptions\n",
        "try:\n",
        "    # This will cause a KeyError\n",
        "    val = sample_dict['z']\n",
        "except KeyError:\n",
        "    print('Handled KeyError')\n",
        "except Exception as e:\n",
        "    print('General Exception caught:', e)"
      ]
    },
    {
      "cell_type": "code",
      "execution_count": 14,
      "id": "d6507a3d-fb0e-4ea3-9b69-3e9e522208ed",
      "metadata": {
        "colab": {
          "base_uri": "https://localhost:8080/"
        },
        "id": "d6507a3d-fb0e-4ea3-9b69-3e9e522208ed",
        "outputId": "ac599796-d61d-41ff-a9fe-da8dcb4b7eab"
      },
      "outputs": [
        {
          "output_type": "stream",
          "name": "stdout",
          "text": [
            "output.txt exists.\n"
          ]
        }
      ],
      "source": [
        "# 13. Check if a file exists before attempting to read it\n",
        "import os\n",
        "\n",
        "file_to_check = filename\n",
        "if os.path.exists(file_to_check):\n",
        "    print(f\"{file_to_check} exists.\")\n",
        "else:\n",
        "    print(f\"{file_to_check} does not exist.\")"
      ]
    },
    {
      "cell_type": "code",
      "execution_count": 15,
      "id": "3d3a18ed-ecbf-42a3-8269-d47b5a945c97",
      "metadata": {
        "colab": {
          "base_uri": "https://localhost:8080/"
        },
        "id": "3d3a18ed-ecbf-42a3-8269-d47b5a945c97",
        "outputId": "5b67bacc-1793-4c68-bc12-6a3aa1934a07"
      },
      "outputs": [
        {
          "output_type": "stream",
          "name": "stderr",
          "text": [
            "ERROR:root:This is an error message.\n"
          ]
        },
        {
          "output_type": "stream",
          "name": "stdout",
          "text": [
            "Logged messages in combined.log\n"
          ]
        }
      ],
      "source": [
        "# 14. Use the logging module to log both informational and error messages\n",
        "logging.basicConfig(filename='combined.log', level=logging.DEBUG,\n",
        "                    format='%(asctime)s:%(levelname)s:%(message)s')\n",
        "logging.info('This is an info message.')\n",
        "logging.error('This is an error message.')\n",
        "print('Logged messages in combined.log')"
      ]
    },
    {
      "cell_type": "code",
      "execution_count": 16,
      "id": "84964a59-6cae-4f2d-a9e0-babf58318ec2",
      "metadata": {
        "colab": {
          "base_uri": "https://localhost:8080/"
        },
        "id": "84964a59-6cae-4f2d-a9e0-babf58318ec2",
        "outputId": "118ccdb0-df47-4414-ee55-9595e05ed7dc"
      },
      "outputs": [
        {
          "output_type": "stream",
          "name": "stdout",
          "text": [
            "File content:\n",
            "Hello, this is a test string!\n",
            "Appended line\n"
          ]
        }
      ],
      "source": [
        "# 15. Print the content of a file and handle the case when the file is empty\n",
        "with open(filename, 'r') as f:\n",
        "    content = f.read()\n",
        "if content:\n",
        "    print('File content:')\n",
        "    print(content)\n",
        "else:\n",
        "    print('File is empty.')"
      ]
    },
    {
      "cell_type": "code",
      "execution_count": 17,
      "id": "f0a16c27-86be-4a50-bc3c-7d61e4c3fa92",
      "metadata": {
        "colab": {
          "base_uri": "https://localhost:8080/"
        },
        "id": "f0a16c27-86be-4a50-bc3c-7d61e4c3fa92",
        "outputId": "bc29a1f9-b16d-4ec3-a59f-ad06c8048f14"
      },
      "outputs": [
        {
          "output_type": "stream",
          "name": "stdout",
          "text": [
            "Sum: 4999950000\n",
            "Memory profiling demonstration complete.\n"
          ]
        }
      ],
      "source": [
        "# 16. Use memory profiling to check the memory usage of a small program\n",
        "def compute_sum(n):\n",
        "    total = 0\n",
        "    for i in range(n):\n",
        "        total += i\n",
        "    return total\n",
        "print('Sum:', compute_sum(100000))\n",
        "print('Memory profiling demonstration complete.')"
      ]
    },
    {
      "cell_type": "code",
      "execution_count": 18,
      "id": "a9739efb-b49b-4619-a57f-55b8a93ab9bd",
      "metadata": {
        "colab": {
          "base_uri": "https://localhost:8080/"
        },
        "id": "a9739efb-b49b-4619-a57f-55b8a93ab9bd",
        "outputId": "28571bcd-17ce-4163-a36c-525992ab9085"
      },
      "outputs": [
        {
          "output_type": "stream",
          "name": "stdout",
          "text": [
            "Numbers written to numbers.txt\n"
          ]
        }
      ],
      "source": [
        "# 17. Create and write a list of numbers to a file, one number per line\n",
        "numbers = list(range(1, 11))\n",
        "with open('numbers.txt', 'w') as f:\n",
        "    for num in numbers:\n",
        "        f.write(str(num) + '\\n')\n",
        "print('Numbers written to numbers.txt')"
      ]
    },
    {
      "cell_type": "code",
      "execution_count": 19,
      "id": "e23f5c14-844e-43f5-86d1-8e1cc3e1a0e9",
      "metadata": {
        "colab": {
          "base_uri": "https://localhost:8080/"
        },
        "id": "e23f5c14-844e-43f5-86d1-8e1cc3e1a0e9",
        "outputId": "745372f2-2b3c-4fd3-ff1d-47e7757ca4c8"
      },
      "outputs": [
        {
          "output_type": "stream",
          "name": "stderr",
          "text": [
            "INFO:RotatingLogger:This is an info message with rotation enabled.\n"
          ]
        },
        {
          "output_type": "stream",
          "name": "stdout",
          "text": [
            "Rotating logging is set up.\n"
          ]
        }
      ],
      "source": [
        "# 18. Implement a basic logging setup that logs to a file with rotation after 1MB\n",
        "import logging\n",
        "from logging.handlers import RotatingFileHandler\n",
        "\n",
        "logger = logging.getLogger('RotatingLogger')\n",
        "logger.setLevel(logging.DEBUG)\n",
        "handler = RotatingFileHandler('rotating.log', maxBytes=1024*1024, backupCount=3)\n",
        "formatter = logging.Formatter('%(asctime)s:%(levelname)s:%(message)s')\n",
        "handler.setFormatter(formatter)\n",
        "logger.addHandler(handler)\n",
        "\n",
        "logger.info('This is an info message with rotation enabled.')\n",
        "print('Rotating logging is set up.')"
      ]
    },
    {
      "cell_type": "code",
      "execution_count": 20,
      "id": "299e7d2b-9c81-43d1-9800-10b68bfb20bf",
      "metadata": {
        "colab": {
          "base_uri": "https://localhost:8080/"
        },
        "id": "299e7d2b-9c81-43d1-9800-10b68bfb20bf",
        "outputId": "d8cda8f2-71dd-4bd6-d50e-23c1fb7b3ba0"
      },
      "outputs": [
        {
          "output_type": "stream",
          "name": "stdout",
          "text": [
            "IndexError handled: list index out of range\n"
          ]
        }
      ],
      "source": [
        "# 19. Handle both IndexError and KeyError using a try-except block\n",
        "sample_list = [1, 2, 3]\n",
        "sample_dict = {'a': 10, 'b': 20}\n",
        "\n",
        "try:\n",
        "    # This may cause IndexError\n",
        "    elem = sample_list[5]\n",
        "    # This may cause KeyError\n",
        "    val = sample_dict['c']\n",
        "except IndexError as ie:\n",
        "    print('IndexError handled:', ie)\n",
        "except KeyError as ke:\n",
        "    print('KeyError handled:', ke)"
      ]
    },
    {
      "cell_type": "code",
      "execution_count": 21,
      "id": "bbc24e34-537f-48a7-b70c-92e5868c4b82",
      "metadata": {
        "colab": {
          "base_uri": "https://localhost:8080/"
        },
        "id": "bbc24e34-537f-48a7-b70c-92e5868c4b82",
        "outputId": "bd70d316-a8dd-43b8-b407-e2cc84f58fae"
      },
      "outputs": [
        {
          "output_type": "stream",
          "name": "stdout",
          "text": [
            "Data read using context manager:\n",
            "Hello, this is a test string!\n",
            "Appended line\n"
          ]
        }
      ],
      "source": [
        "# 20. Open a file and read its contents using a context manager\n",
        "with open(filename, 'r') as f:\n",
        "    data = f.read()\n",
        "print('Data read using context manager:')\n",
        "print(data)"
      ]
    },
    {
      "cell_type": "code",
      "execution_count": 22,
      "id": "d44325a7-1a74-4618-9bda-4eecb6ad367d",
      "metadata": {
        "colab": {
          "base_uri": "https://localhost:8080/"
        },
        "id": "d44325a7-1a74-4618-9bda-4eecb6ad367d",
        "outputId": "a74c1ba6-6ab9-427e-af26-5ce308f587d2"
      },
      "outputs": [
        {
          "output_type": "stream",
          "name": "stdout",
          "text": [
            "The word 'test' occurs 1 times in output.txt.\n"
          ]
        }
      ],
      "source": [
        "# 21. Read a file and print the number of occurrences of a specific word\n",
        "word_to_count = 'test'\n",
        "with open(filename, 'r') as f:\n",
        "    text = f.read()\n",
        "count = text.lower().count(word_to_count.lower())\n",
        "print(f\"The word '{word_to_count}' occurs {count} times in {filename}.\")"
      ]
    },
    {
      "cell_type": "code",
      "execution_count": 23,
      "id": "3b3d34f0-043b-4b9c-b2f4-7a908e8eed59",
      "metadata": {
        "colab": {
          "base_uri": "https://localhost:8080/"
        },
        "id": "3b3d34f0-043b-4b9c-b2f4-7a908e8eed59",
        "outputId": "a8767955-dfed-4a20-c7ca-417ce5db9440"
      },
      "outputs": [
        {
          "output_type": "stream",
          "name": "stdout",
          "text": [
            "output.txt is not empty.\n"
          ]
        }
      ],
      "source": [
        "# 22. Check if a file is empty before reading its contents\n",
        "import os\n",
        "if os.stat(filename).st_size == 0:\n",
        "    print(f\"{filename} is empty.\")\n",
        "else:\n",
        "    print(f\"{filename} is not empty.\")"
      ]
    },
    {
      "cell_type": "code",
      "execution_count": 24,
      "id": "a7eb8a78-d3fa-4474-b159-0ca10590a01d",
      "metadata": {
        "colab": {
          "base_uri": "https://localhost:8080/"
        },
        "id": "a7eb8a78-d3fa-4474-b159-0ca10590a01d",
        "outputId": "2720b5dd-db0d-44df-b2d9-0751daab42ff"
      },
      "outputs": [
        {
          "output_type": "stream",
          "name": "stderr",
          "text": [
            "ERROR:root:Error occurred during file handling: [Errno 2] No such file or directory: 'nonexistent_file.txt'\n"
          ]
        },
        {
          "output_type": "stream",
          "name": "stdout",
          "text": [
            "Logged file handling error.\n"
          ]
        }
      ],
      "source": [
        "# 23. Write a Python program that writes to a log file when an error occurs during file handling\n",
        "try:\n",
        "    with open('nonexistent_file.txt', 'r') as f:\n",
        "        _ = f.read()\n",
        "except Exception as error:\n",
        "    logging.error('Error occurred during file handling: %s', error)\n",
        "    print('Logged file handling error.')"
      ]
    },
    {
      "cell_type": "code",
      "source": [],
      "metadata": {
        "id": "3IEBpAteBrxA"
      },
      "id": "3IEBpAteBrxA",
      "execution_count": 24,
      "outputs": []
    }
  ],
  "metadata": {
    "kernelspec": {
      "display_name": "Python 3",
      "language": "python",
      "name": "python3"
    },
    "language_info": {
      "name": "python",
      "version": "3.x"
    },
    "colab": {
      "provenance": []
    }
  },
  "nbformat": 4,
  "nbformat_minor": 5
}